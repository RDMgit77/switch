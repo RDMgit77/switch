{
 "cells": [
  {
   "cell_type": "code",
   "execution_count": 2,
   "id": "50e8b257",
   "metadata": {
    "pycharm": {
     "name": "#%%\n"
    }
   },
   "outputs": [
    {
     "data": {
      "text/plain": [
       "[None, None, None, None, None, None, None, None, None, None, None, None]"
      ]
     },
     "execution_count": 2,
     "metadata": {},
     "output_type": "execute_result"
    },
    {
     "data": {
      "image/png": "[encoded data removed]",
      "text/plain": [
       "<Figure size 864x864 with 6 Axes>"
      ]
     },
     "metadata": {},
     "output_type": "display_data"
    }
   ],
   "source": [
    "# Imports\n",
    "import os\n",
    "\n",
    "import pandas as pd\n",
    "from matplotlib import pyplot as plt\n",
    "from matplotlib.pyplot import setp\n",
    "from matplotlib.ticker import PercentFormatter\n",
    "\n",
    "from switch_model.tools.graph.main import GraphTools, Scenario\n",
    "\n",
    "# Define folders\n",
    "rel_path_base = \"../../../../switch_runs/ldes_runs\"\n",
    "output_file_name=\"Figure 2\"\n",
    "root_path = os.path.normpath(os.path.join(os.getcwd(), rel_path_base))\n",
    "graph_dir=os.path.join(root_path,\"LDES_paper_graphs\")\n",
    "output_path=os.path.join(graph_dir, output_file_name)\n",
    "get_rel_path = lambda ext: os.path.join(rel_path_base, ext)\n",
    "\n",
    "# Define scenarios\n",
    "baseline = Scenario(get_rel_path(\"1342\"), name=1.94)\n",
    "min_2 = Scenario(get_rel_path(\"M7\"), name=2)\n",
    "min_4 = Scenario(get_rel_path(\"M6\"), name=4)\n",
    "min_8 = Scenario(get_rel_path(\"M5\"), name=8)\n",
    "min_16 = Scenario(get_rel_path(\"M4\"), name=16)\n",
    "min_32 = Scenario(get_rel_path(\"M3\"), name=32)\n",
    "min_64 = Scenario(get_rel_path(\"M2\"), name=64)\n",
    "scenarios = [baseline, min_2, min_4, min_8, min_16, min_32, min_64]\n",
    "\n",
    "# Define constants\n",
    "STORAGE_CAPACITY_LEGEND = \"Storage Capacity (TWh)\"\n",
    "X_LABEL = \"WECC-wide Storage Capacity (TWh)\"\n",
    "\n",
    "# Prepare graph tools\n",
    "tools = GraphTools(scenarios=scenarios, graph_dir=graph_dir)\n",
    "tools.pre_graphing(multi_scenario=True, name=output_file_name)\n",
    "\n",
    "# Specify formatting and get figure\n",
    "tools.plt.rcParams['font.family'] = 'sans-serif'\n",
    "figure_size = (12, 12)\n",
    "fig = tools.get_figure(size=figure_size)\n",
    "\n",
    "# Define save() function to use in charts\n",
    "def save():\n",
    "    #fig.show()\n",
    "    fig.savefig(output_path, bbox_inches=\"tight\")\n",
    "    print(\"Saved figure to \" + output_path)\n",
    "    return fig\n",
    "\n",
    "ax1 = fig.add_subplot(3, 2, 1)\n",
    "ax2 = fig.add_subplot(3, 2, 2, sharey=ax1)\n",
    "ax3 = fig.add_subplot(3, 2, 3, sharey=ax1, sharex=ax1)\n",
    "ax4 = fig.add_subplot(3, 2, 4, sharey=ax1, sharex=ax2)\n",
    "ax5 = fig.add_subplot(3, 2, 5)\n",
    "ax6 = fig.add_subplot(3, 2, 6)\n",
    "\n",
    "setp(ax2.get_yticklabels(), visible=False)\n",
    "setp(ax4.get_yticklabels(), visible=False)\n",
    "setp(ax1.get_xticklabels(), visible=False)\n",
    "setp(ax2.get_xticklabels(), visible=False)"
   ]
  },
  {
   "cell_type": "code",
   "execution_count": 3,
   "id": "2ad0d8d4",
   "metadata": {
    "pycharm": {
     "name": "#%%\n"
    }
   },
   "outputs": [
    {
     "name": "stdout",
     "output_type": "stream",
     "text": [
      "Saved figure to /data/home/machstg/switch_runs/ldes_runs/LDES_paper_graphs/Figure 2\n"
     ]
    }
   ],
   "source": [
    "def filter_scenario(df, scenario_name):\n",
    "    return df[df[\"scenario_name\"] == scenario_name].drop(columns=[\"scenario_name\"]).copy()\n",
    "\n",
    "def figure_2_energy_balance(tools, ax, scenario_name):\n",
    "    # return\n",
    "    # Get dispatch dataframe\n",
    "    dispatch = tools.get_dataframe(\"dispatch.csv\", usecols=[\n",
    "        \"timestamp\", \"gen_tech\", \"gen_energy_source\", \"DispatchGen_MW\", \"scenario_name\"\n",
    "    ]).rename({\"DispatchGen_MW\": \"value\"}, axis=1)\n",
    "    dispatch = filter_scenario(dispatch, scenario_name)\n",
    "    dispatch = tools.transform.gen_type(dispatch)\n",
    "\n",
    "    # Sum dispatch across all the projects of the same type and timepoint\n",
    "    dispatch = dispatch.groupby([\"timestamp\", \"gen_type\"], as_index=False).sum()\n",
    "    dispatch = dispatch[dispatch[\"gen_type\"] != \"Storage\"]\n",
    "\n",
    "    # Get load dataframe\n",
    "    load = tools.get_dataframe(\"load_balance.csv\", usecols=[\n",
    "        \"timestamp\", \"zone_demand_mw\", \"TXPowerNet\", \"scenario_name\"\n",
    "    ])\n",
    "    load = filter_scenario(load, scenario_name)\n",
    "\n",
    "    def process_time(df):\n",
    "        df = df.astype({\"period\": int})\n",
    "        df = df[df[\"period\"] == df[\"period\"].max()].drop(columns=\"period\")\n",
    "        return df.set_index(\"datetime\")\n",
    "\n",
    "    # Sum load across all the load zones\n",
    "    load = load.groupby(\"timestamp\", as_index=False).sum()\n",
    "\n",
    "    # Include Tx Losses in demand and flip sign\n",
    "    load[\"value\"] = (load[\"zone_demand_mw\"] + load[\"TXPowerNet\"]) * -1\n",
    "\n",
    "    # Rename and convert from wide to long format\n",
    "    load = load[[\"timestamp\", \"value\"]]\n",
    "\n",
    "    # Add the timestamp information and make period string to ensure it doesn't mess up the graphing\n",
    "    dispatch = process_time(tools.transform.timestamp(dispatch))\n",
    "    load = process_time(tools.transform.timestamp(load))\n",
    "\n",
    "    # Convert to TWh (incl. multiply by timepoint duration)\n",
    "    dispatch[\"value\"] *= dispatch[\"tp_duration\"] / 1e6\n",
    "    load[\"value\"] *= load[\"tp_duration\"] / 1e6\n",
    "\n",
    "    days = 14\n",
    "    freq = str(days) + \"D\"\n",
    "    offset = tools.pd.Timedelta(freq) / 2\n",
    "\n",
    "    def rolling_sum(df):\n",
    "        df = df.rolling(freq, center=True).value.sum().reset_index()\n",
    "        df[\"value\"] /= days\n",
    "        df = df[(df.datetime.min() + offset < df.datetime) & (df.datetime < df.datetime.max() - offset)]\n",
    "        return df\n",
    "\n",
    "    dispatch = rolling_sum(dispatch.groupby(\"gen_type\", as_index=False))\n",
    "    load = rolling_sum(load).set_index(\"datetime\")[\"value\"]\n",
    "\n",
    "    # Get the state of charge data\n",
    "    soc = tools.get_dataframe(\"StateOfCharge.csv\", dtype={\"STORAGE_GEN_TPS_1\": str}).rename(columns={\"STORAGE_GEN_TPS_2\": \"timepoint\", \"StateOfCharge\": \"value\"})\n",
    "    soc = filter_scenario(soc, scenario_name)\n",
    "    # Sum over all the projects that are in the same scenario with the same timepoint\n",
    "    soc = soc.groupby([\"timepoint\"], as_index=False).sum()\n",
    "    soc[\"value\"] /= 1e6  # Convert to TWh\n",
    "    max_soc = soc[\"value\"].max()\n",
    "\n",
    "    # Group by time\n",
    "    soc = process_time(tools.transform.timestamp(soc, use_timepoint=True, key_col=\"timepoint\"))\n",
    "    soc = soc.rolling(freq, center=True)[\"value\"].mean().reset_index()\n",
    "    soc = soc[(soc.datetime.min() + offset < soc.datetime) & (soc.datetime < soc.datetime.max() - offset)]\n",
    "    soc = soc.set_index(\"datetime\")[\"value\"]\n",
    "\n",
    "    dispatch = dispatch[dispatch[\"value\"] != 0]\n",
    "    dispatch = dispatch.pivot(columns=\"gen_type\", index=\"datetime\", values=\"value\")\n",
    "    dispatch = dispatch[dispatch.std().sort_values().index].rename_axis(\"Technology\", axis=1)\n",
    "    total_dispatch = dispatch.sum(axis=1)\n",
    "\n",
    "    max_val = max(total_dispatch.max(), load.max())\n",
    "\n",
    "    # Scale soc to the graph\n",
    "    soc *= 100 / scenario_name\n",
    "\n",
    "    # Plot\n",
    "    # Get the colors for the lines\n",
    "    # plot\n",
    "    ax.set_ylim(0, max_val * 1.05)\n",
    "    dispatch.plot(\n",
    "        ax=ax,\n",
    "        color=tools.get_colors(),\n",
    "        legend=False,\n",
    "        xlabel=\"\"\n",
    "    )\n",
    "    ax2 = ax.twinx()\n",
    "    ax2.yaxis.set_major_formatter(PercentFormatter())\n",
    "    ax2.set_ylim(0, 100)\n",
    "    soc.plot(ax=ax2, color=\"black\", linestyle=\"dotted\", label=\"State of Charge\", xlabel=\"\")\n",
    "    load.plot(ax=ax, color=\"red\", linestyle=\"dashed\", label=\"Total Demand\", xlabel=\"\")\n",
    "    total_dispatch.plot(ax=ax, color=\"green\", linestyle=\"dashed\", label=\"Total Generation\", xlabel=\"\")\n",
    "    ax.fill_between(total_dispatch.index, total_dispatch.values, load.values, alpha=0.2, where=load < total_dispatch,\n",
    "                    facecolor=\"green\")\n",
    "    ax.fill_between(total_dispatch.index, total_dispatch.values, load.values, alpha=0.2, where=load > total_dispatch,\n",
    "                    facecolor=\"red\")\n",
    "    ax.set_title(str(scenario_name) + \"TWh of storage\")\n",
    "    return save()\n",
    "\n",
    "figure_2_energy_balance(tools, ax1, scenario_name=1.94)"
   ]
  },
  {
   "cell_type": "code",
   "execution_count": null,
   "id": "09cb749d",
   "metadata": {
    "pycharm": {
     "name": "#%%\n"
    }
   },
   "outputs": [],
   "source": [
    "figure_2_energy_balance(tools, ax2, scenario_name=4)"
   ]
  },
  {
   "cell_type": "code",
   "execution_count": null,
   "id": "02ee8ba6",
   "metadata": {
    "pycharm": {
     "name": "#%%\n"
    }
   },
   "outputs": [],
   "source": [
    "figure_2_energy_balance(tools, ax3, scenario_name=16)"
   ]
  },
  {
   "cell_type": "code",
   "execution_count": null,
   "id": "5b4b13b6",
   "metadata": {
    "pycharm": {
     "name": "#%%\n"
    }
   },
   "outputs": [],
   "source": [
    "figure_2_energy_balance(tools, ax4, scenario_name=64)"
   ]
  },
  {
   "cell_type": "code",
   "execution_count": null,
   "id": "b83d037f",
   "metadata": {
    "pycharm": {
     "name": "#%%\n"
    }
   },
   "outputs": [],
   "source": [
    "ax=ax5\n",
    "ax.clear()\n",
    "df = tools.get_dataframe(\"gen_cap.csv\",\n",
    "                         usecols=[\"gen_tech\", \"gen_energy_source\", \"GenCapacity\", \"scenario_name\"])\n",
    "df = tools.transform.gen_type(df)\n",
    "df = df.rename({\"GenCapacity\": \"value\"}, axis=1)\n",
    "df = df.groupby([\"scenario_name\", \"gen_type\"], as_index=False).value.sum()\n",
    "scaling = df[df[\"scenario_name\"] == 1.94][[\"gen_type\", \"value\"]].rename(columns={\"value\": \"scaling\"})\n",
    "df = df.merge(scaling, on=\"gen_type\")\n",
    "df.value /= df.scaling\n",
    "df.value = (df.value - 1) * 100\n",
    "df = df[df[\"gen_type\"].isin((\"Wind\", \"Solar\", \"Biomass\"))]\n",
    "df = df.pivot(index=\"scenario_name\", columns=\"gen_type\", values=\"value\")\n",
    "df = df.rename_axis(\"Technology\", axis=1)\n",
    "df.plot(\n",
    "    ax=ax,\n",
    "    color=tools.get_colors(),\n",
    "    legend=False\n",
    ")\n",
    "ax.set_ylabel(\"Percent Change in Installed Capacity against Baseline\")\n",
    "ax.yaxis.set_major_formatter(PercentFormatter())\n",
    "ax.set_xlabel(X_LABEL)\n",
    "ax.set_title(\"B. Impact of Storage on Generation Mix\")\n",
    "save()"
   ]
  },
  {
   "cell_type": "code",
   "execution_count": null,
   "id": "dd33d8cb",
   "metadata": {
    "pycharm": {
     "name": "#%%\n"
    }
   },
   "outputs": [],
   "source": [
    "ax=ax6\n",
    "ax.clear()\n",
    "\n",
    "df = tools.get_dataframe(\"storage_builds.csv\").astype({\"scenario_name\": \"int\"})\n",
    "df = df[df[\"build_year\"] == 2050]\n",
    "df[\"power\"] = df[\"IncrementalPowerCapacityMW\"] / 1000\n",
    "df[\"energy\"] = df[\"IncrementalEnergyCapacityMWh\"] / 1000\n",
    "\n",
    "df = tools.transform.load_zone(df)\n",
    "df = df.groupby([\"scenario_name\", \"region\"], as_index=False)[[\"power\", \"energy\"]].sum()\n",
    "# df = df[df[\"scenario_name\"] < 30]\n",
    "# Filter out rows where there's no power built\n",
    "# df = df[df[\"power\"] > 0.0001]\n",
    "df[\"duration\"] = (df[\"energy\"] / df[\"power\"]) / 24\n",
    "df = df.rename(columns={\"scenario_name\": STORAGE_CAPACITY_LEGEND})\n",
    "average_duration = df.groupby(STORAGE_CAPACITY_LEGEND).sum()\n",
    "average_duration = ((average_duration[\"energy\"] / average_duration[\"power\"]) / 24).rename(\"duration\")\n",
    "average_power = df.groupby(STORAGE_CAPACITY_LEGEND)[\"power\"].mean().rename(\"power\")\n",
    "average = pd.concat([average_power, average_duration], axis=1).reset_index()\n",
    "ax.scatter(\n",
    "    df[\"duration\"],\n",
    "    df[\"power\"],\n",
    "    c=df[STORAGE_CAPACITY_LEGEND],\n",
    "    s=10,\n",
    "    cmap=\"seismic\"\n",
    ")\n",
    "\n",
    "average.drop(STORAGE_CAPACITY_LEGEND, axis=1).set_index(\"duration\").plot(ax=ax, legend=False)\n",
    "\n",
    "average.plot.scatter(\n",
    "    \"duration\",\n",
    "    \"power\",\n",
    "    c=STORAGE_CAPACITY_LEGEND,\n",
    "    s=50,\n",
    "    colormap=\"seismic\",\n",
    "    ax=ax,\n",
    "    marker=\"^\",\n",
    "    logx=True,\n",
    "    logy=True,\n",
    ")\n",
    "# df_lines = df.pivot(index=\"duration\", values=\"power\", columns=\"region\").interpolate(axis='index', limit_area=\"inside\")\n",
    "# df_lines.plot(ax=ax, legend=False, color=\"black\", linewidth=0.5)\n",
    "ax.tick_params(axis='x', which='both')\n",
    "ax.set_xlabel(\"Storage Duration (days)\")\n",
    "ax.set_ylabel(\"Storage Power (GW)\")\n",
    "ax.set_title(\"C. Storage Buildout Per Scenario\")\n",
    "save()"
   ]
  },
  {
   "cell_type": "code",
   "execution_count": null,
   "id": "4265ea2b",
   "metadata": {
    "pycharm": {
     "name": "#%%\n"
    }
   },
   "outputs": [],
   "source": [
    "handles, labels = ax1.get_legend_handles_labels()\n",
    "unique = [(h, l) for i, (h, l) in enumerate(zip(handles, labels)) if l not in labels[:i]]\n",
    "plt.figlegend(*zip(*unique))\n",
    "save()"
   ]
  }
 ],
 "metadata": {
  "kernelspec": {
   "display_name": "Python 3 (ipykernel)",
   "language": "python",
   "name": "python3"
  },
  "language_info": {
   "codemirror_mode": {
    "name": "ipython",
    "version": 3
   },
   "file_extension": ".py",
   "mimetype": "text/x-python",
   "name": "python",
   "nbconvert_exporter": "python",
   "pygments_lexer": "ipython3",
   "version": "3.8.11"
  }
 },
 "nbformat": 4,
 "nbformat_minor": 5
}
